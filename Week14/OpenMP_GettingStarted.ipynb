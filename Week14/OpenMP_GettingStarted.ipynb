{
  "nbformat": 4,
  "nbformat_minor": 0,
  "metadata": {
    "colab": {
      "name": "OpenMP_GettingStarted.ipynb",
      "provenance": [],
      "collapsed_sections": [],
      "authorship_tag": "ABX9TyMrwLOTiQz6TK+0MpZCuR2q",
      "include_colab_link": true
    },
    "kernelspec": {
      "name": "python3",
      "display_name": "Python 3"
    },
    "language_info": {
      "name": "python"
    },
    "accelerator": "GPU"
  },
  "cells": [
    {
      "cell_type": "markdown",
      "metadata": {
        "id": "view-in-github",
        "colab_type": "text"
      },
      "source": [
        "<a href=\"https://colab.research.google.com/github/mmmovania/CUDA_Spring2022_GoogleColabs/blob/main/Week14/OpenMP_GettingStarted.ipynb\" target=\"_parent\"><img src=\"https://colab.research.google.com/assets/colab-badge.svg\" alt=\"Open In Colab\"/></a>"
      ]
    },
    {
      "cell_type": "code",
      "execution_count": 1,
      "metadata": {
        "colab": {
          "base_uri": "https://localhost:8080/"
        },
        "id": "UTuaHG0vryRN",
        "outputId": "defcf57b-ed4b-4002-bb9e-335eb4f906c0"
      },
      "outputs": [
        {
          "output_type": "stream",
          "name": "stdout",
          "text": [
            "/usr/local\n",
            "  File: cuda -> /usr/local/cuda-10.0\n",
            "  Size: 20        \tBlocks: 0          IO Block: 4096   symbolic link\n",
            "Device: 24h/36d\tInode: 2752515     Links: 1\n",
            "Access: (0777/lrwxrwxrwx)  Uid: (    0/    root)   Gid: (    0/    root)\n",
            "Access: 2022-04-20 06:29:45.865376549 +0000\n",
            "Modify: 2022-04-20 06:29:45.755376762 +0000\n",
            "Change: 2022-04-20 06:29:45.755376762 +0000\n",
            " Birth: -\n"
          ]
        }
      ],
      "source": [
        "%cd /usr/local/\n",
        "!rm -rf cuda\n",
        "!ln -s /usr/local/cuda-10.0 /usr/local/cuda\n",
        "!stat cuda"
      ]
    },
    {
      "cell_type": "code",
      "source": [
        "!nvcc --version"
      ],
      "metadata": {
        "colab": {
          "base_uri": "https://localhost:8080/"
        },
        "id": "DaNUb1B8tGK6",
        "outputId": "393f0c72-5539-4668-9e8d-2889b2b297ec"
      },
      "execution_count": 2,
      "outputs": [
        {
          "output_type": "stream",
          "name": "stdout",
          "text": [
            "nvcc: NVIDIA (R) Cuda compiler driver\n",
            "Copyright (c) 2005-2018 NVIDIA Corporation\n",
            "Built on Sat_Aug_25_21:08:01_CDT_2018\n",
            "Cuda compilation tools, release 10.0, V10.0.130\n"
          ]
        }
      ]
    },
    {
      "cell_type": "code",
      "source": [
        "%%writefile code.c  \n",
        "// OpenMP program to print Hello World \n",
        "// using C language \n",
        "// OpenMP header \n",
        "#include <omp.h>   \n",
        "#include <stdio.h> \n",
        "#include <stdlib.h> \n",
        "  \n",
        "int main(int argc, char* argv[]) \n",
        "{ \n",
        "  \n",
        "    // Beginning of parallel region \n",
        "    #pragma omp parallel \n",
        "    { \n",
        "        printf(\"Hello World... from thread = %d \\\\n\", omp_get_thread_num()); \n",
        "    } \n",
        "    // Ending of parallel region \n",
        "} "
      ],
      "metadata": {
        "id": "sAHeA1vLtJ5q",
        "outputId": "3d6ad5a9-a9d9-493d-9945-28720eff02ae",
        "colab": {
          "base_uri": "https://localhost:8080/"
        }
      },
      "execution_count": 3,
      "outputs": [
        {
          "output_type": "stream",
          "name": "stdout",
          "text": [
            "Writing code.c\n"
          ]
        }
      ]
    },
    {
      "cell_type": "code",
      "source": [
        "%env OMP_NUM_THREADS=3"
      ],
      "metadata": {
        "colab": {
          "base_uri": "https://localhost:8080/"
        },
        "id": "heFe3XJIu-0r",
        "outputId": "1268d7f8-ceff-450e-a98e-edcce024b293"
      },
      "execution_count": 4,
      "outputs": [
        {
          "output_type": "stream",
          "name": "stdout",
          "text": [
            "env: OMP_NUM_THREADS=3\n"
          ]
        }
      ]
    },
    {
      "cell_type": "code",
      "source": [
        "!gcc -o hello -fopenmp code.c"
      ],
      "metadata": {
        "id": "QLlWm31HaD5L"
      },
      "execution_count": 5,
      "outputs": []
    },
    {
      "cell_type": "code",
      "source": [
        "!./hello"
      ],
      "metadata": {
        "colab": {
          "base_uri": "https://localhost:8080/"
        },
        "id": "VWJqXMLbaHgX",
        "outputId": "d7baf952-2c62-4416-e9f7-1d2ed72c6f65"
      },
      "execution_count": 6,
      "outputs": [
        {
          "output_type": "stream",
          "name": "stdout",
          "text": [
            "Hello World... from thread = 0 \\nHello World... from thread = 1 \\nHello World... from thread = 2 \\n"
          ]
        }
      ]
    },
    {
      "cell_type": "markdown",
      "source": [
        "Now do examples given here: https://www.openmp.org/wp-content/uploads/openmp-examples-4.5.0.pdf"
      ],
      "metadata": {
        "id": "gotBOSk5au4k"
      }
    }
  ]
}